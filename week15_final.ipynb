{
  "nbformat": 4,
  "nbformat_minor": 0,
  "metadata": {
    "colab": {
      "provenance": [],
      "authorship_tag": "ABX9TyNpyEWvxVTEgJYZWSbaujjm",
      "include_colab_link": true
    },
    "kernelspec": {
      "name": "python3",
      "display_name": "Python 3"
    },
    "language_info": {
      "name": "python"
    }
  },
  "cells": [
    {
      "cell_type": "markdown",
      "metadata": {
        "id": "view-in-github",
        "colab_type": "text"
      },
      "source": [
        "<a href=\"https://colab.research.google.com/github/groovyxw/ce450_hw/blob/main/week15_final.ipynb\" target=\"_parent\"><img src=\"https://colab.research.google.com/assets/colab-badge.svg\" alt=\"Open In Colab\"/></a>"
      ]
    },
    {
      "cell_type": "code",
      "execution_count": 95,
      "metadata": {
        "colab": {
          "base_uri": "https://localhost:8080/"
        },
        "id": "4Un1hRdbesho",
        "outputId": "c6543f2a-81ee-435e-a28b-5183610c4e2e"
      },
      "outputs": [
        {
          "output_type": "stream",
          "name": "stdout",
          "text": [
            "9\n",
            "14\n"
          ]
        }
      ],
      "source": [
        "def trc1(g):\n",
        "  def inner(n):\n",
        "    return g(n)\n",
        "  return inner\n",
        "  \n",
        "@trc1\n",
        "def sqr(x):\n",
        "  return x*x\n",
        "\n",
        "@trc1\n",
        "def  sum_sqr(n):\n",
        "  if n == 1:\n",
        "    return sqr(1)\n",
        "  else:\n",
        "    return sqr(n) + sum_sqr(n-1)\n",
        "\n",
        "print(sqr(3))\n",
        "\n",
        "print(sum_sqr(3))\n",
        "\n"
      ]
    },
    {
      "cell_type": "code",
      "source": [
        "def verify_add(m, ls):\n",
        "  l = []\n",
        "  for ele in ls:\n",
        "    l.append(ele)\n",
        "\n",
        "  l.sort()\n",
        "  \n",
        "  left, right = 0, len(ls) - 1\n",
        "  while left < right:\n",
        "      sum = l[left] + l[right]\n",
        "      if sum == m:\n",
        "        return True\n",
        "      elif sum < m:\n",
        "        left += 1\n",
        "      else:\n",
        "        right -= 1\n",
        "  \n",
        "  return False\n",
        "\n",
        "print(verify_add (100, [1, 2, 3, 4, 5]))\n",
        "print(verify_add (7, [1, 2, 3, 4, 2]))\n",
        "print(verify_add (10, [5, 5]))\n",
        "print(verify_add (151, range(0, 200000, 3)))\n",
        "print(verify_add(50004, range(0, 200000, 4)))"
      ],
      "metadata": {
        "colab": {
          "base_uri": "https://localhost:8080/"
        },
        "id": "2xOY2tuniZy2",
        "outputId": "5184cbbb-3ba3-4d57-dc09-5aee0abc5aeb"
      },
      "execution_count": 96,
      "outputs": [
        {
          "output_type": "stream",
          "name": "stdout",
          "text": [
            "False\n",
            "True\n",
            "True\n",
            "False\n",
            "True\n"
          ]
        }
      ]
    },
    {
      "cell_type": "code",
      "source": [
        "from typing_extensions import Annotated\n",
        "def  deep_rvrs(tup):\n",
        "#  if isinstance(tup, tuple) and len(tup) == 1:\n",
        "#    return tup\n",
        "\n",
        "  new_tup = ()\n",
        "  for k in reversed(tup):\n",
        "    if isinstance(k, tuple):\n",
        "      new_tup = new_tup + (deep_rvrs(k),)\n",
        "    else:\n",
        "      new_tup = new_tup + (k,)\n",
        "  return new_tup\n",
        "\n",
        "a = (11, 12, 13, 14) \n",
        "print(deep_rvrs (a))\n",
        "\n",
        "tpl = (11, (12, (13,113), 14), 15)\n",
        "print(deep_rvrs (tpl))\n"
      ],
      "metadata": {
        "colab": {
          "base_uri": "https://localhost:8080/"
        },
        "id": "NdU_PCgOmxo_",
        "outputId": "ed5abaf0-fd6e-4685-9046-5448429376db"
      },
      "execution_count": 38,
      "outputs": [
        {
          "output_type": "stream",
          "name": "stdout",
          "text": [
            "(14, 13, 12, 11)\n",
            "(15, (14, (113, 13), 12), 11)\n"
          ]
        }
      ]
    },
    {
      "cell_type": "code",
      "source": [
        "#from functools import lru_cache\n",
        "class \tFibonacci ():\n",
        "\n",
        "    def  __init__(self):\n",
        "        self.val = 0\n",
        "        self.pre = 0\n",
        "        self.n = 0\n",
        "\n",
        "    def __repr__(self):\n",
        "        return str(self.val)\n",
        "\n",
        "\n",
        "    def nxt(self):\n",
        "      self.n += 1\n",
        "      self.pre = self.val\n",
        "      if self.n < 2:\n",
        "        self.val = self.n + self.pre\n",
        "      else:\n",
        "        self.val = self.val + self.pre\n",
        "      print(\"pre=\", self.pre, \" val=\",self.val, \" n=\", self.n)\n",
        "      return self\n",
        "\n",
        "    def nxt(self):\n",
        "      self.n += 1\n",
        "      self.val = Fibonacci.fib(self.n)\n",
        "      return self\n",
        "\n",
        "    def reset(self):\n",
        "      self.val = 0\n",
        "      self.pre = 0\n",
        "      self.n = 0\n",
        "\n",
        "    def fib(n):\n",
        "        if n < 2:\n",
        "            return n\n",
        "        else:\n",
        "            return Fibonacci.fib(n-1) + Fibonacci.fib(n-2)\n",
        "\n",
        "a = Fibonacci()\n",
        "print(a)\n",
        "\n",
        "print(a.nxt())\n",
        "a.reset()\n",
        "\n",
        "print(a.nxt().nxt())\n",
        "a.reset()\n",
        "\n",
        "print(a.nxt().nxt().nxt())\n",
        "a.reset()\n",
        "\n",
        "print(a.nxt().nxt().nxt().nxt())\n",
        "a.reset()\n",
        "\n",
        "print(a.nxt().nxt().nxt().nxt().nxt())\n",
        "a.reset()\n",
        "\n",
        "print(a.nxt().nxt().nxt().nxt().nxt().nxt())"
      ],
      "metadata": {
        "colab": {
          "base_uri": "https://localhost:8080/"
        },
        "id": "QM9ofoOsrz-x",
        "outputId": "7dbec08e-ec62-4276-e42b-977c3923d68c"
      },
      "execution_count": 98,
      "outputs": [
        {
          "output_type": "stream",
          "name": "stdout",
          "text": [
            "0\n",
            "1\n",
            "1\n",
            "2\n",
            "3\n",
            "5\n",
            "8\n"
          ]
        }
      ]
    },
    {
      "cell_type": "code",
      "source": [
        "class  Student():\n",
        "\n",
        "  def __init__(self, name, num):\n",
        "    self.name = name\n",
        "    self.num = num\n",
        "\n",
        "  def __lt__(self, compareObj):\n",
        "    return self.num < compareObj.num\n",
        "\n",
        "  def __eq__(self, compareObj):\n",
        "    return self.num == compareObj.num\n",
        "\n",
        "  def __ne__(self, compareObj):\n",
        "    return self.num != compareObj.num\n",
        "\n",
        "  def __gt__(self, compareObj):\n",
        "    return self.num > compareObj.num\n",
        "\n",
        "  def __add__(self, addObj):\n",
        "    return Student(self.name+addObj.name, self.num + addObj.num)\n",
        "\n",
        "  def  __repr__(self):\n",
        "        return str(self.num)\n",
        "\n",
        "a= Student ('Peter', 3)\n",
        "b= Student ('Mike', 4)\n",
        "c= Student ('John', 5)\n",
        "d= Student ('Kelvin', 3)\n",
        "\n",
        "print(a+b+d)\n",
        "print(a!=d)\n",
        "print(b<c)"
      ],
      "metadata": {
        "colab": {
          "base_uri": "https://localhost:8080/"
        },
        "id": "y7kzhfUk0NVK",
        "outputId": "c551e993-f9ae-4f29-985d-0204ca474d00"
      },
      "execution_count": 99,
      "outputs": [
        {
          "output_type": "stream",
          "name": "stdout",
          "text": [
            "10\n",
            "False\n",
            "True\n"
          ]
        }
      ]
    }
  ]
}