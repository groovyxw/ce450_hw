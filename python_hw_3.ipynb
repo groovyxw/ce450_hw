{
  "nbformat": 4,
  "nbformat_minor": 0,
  "metadata": {
    "colab": {
      "provenance": [],
      "collapsed_sections": [],
      "authorship_tag": "ABX9TyNsy+jGFBoU5t8fKbu3FA7S",
      "include_colab_link": true
    },
    "kernelspec": {
      "name": "python3",
      "display_name": "Python 3"
    },
    "language_info": {
      "name": "python"
    }
  },
  "cells": [
    {
      "cell_type": "markdown",
      "metadata": {
        "id": "view-in-github",
        "colab_type": "text"
      },
      "source": [
        "<a href=\"https://colab.research.google.com/github/groovyxw/ce450_hw/blob/main/python_hw_3.ipynb\" target=\"_parent\"><img src=\"https://colab.research.google.com/assets/colab-badge.svg\" alt=\"Open In Colab\"/></a>"
      ]
    },
    {
      "cell_type": "markdown",
      "source": [
        "# 1.\tWrite a function to take a positive integer x as input and print all ways of forming positive integer x by multiplying two positive integers together, ordered by the first term. Then, return whether the sum of the proper divisors of x is greater than x. \n",
        "\n",
        "def abndnt(n):\n",
        "   \"\"\"\n",
        "   >>> abndnt(12) \t# 1 + 2 + 3 + 4 + 6 is 16, which is larger than 12 \n",
        "   1 * 12 \n",
        "   2 * 6 \n",
        "   3 * 4 \n",
        "   True \n",
        "  >>> abndnt (14)\t # 1 + 2 + 7 is 10, which is not larger than 14 \n",
        "   1 * 14 \n",
        "   2 * 7 \n",
        "   False \n",
        "   >>> abndnt (16) \n",
        "   1 * 16 \n",
        "   2 * 8 \n",
        "   4 * 4 \n",
        "   False \n",
        "   >>> abndnt (20) \n",
        "   1 * 20 \n",
        " \t\t   2 * 10 \n",
        "   4 * 5 \n",
        "   True \n",
        "   >>> abndnt (22) \n",
        "   1 * 22 \n",
        "   2 * 11 \n",
        "   False \n",
        "   >>> r = abndnt(24) \n",
        "   1 * 24 \n",
        "   2 * 12 \n",
        "   3 * 8 \n",
        "   4 * 6 \n",
        "   >>> r \n",
        "  True\n",
        " \"\"\"\n"
      ],
      "metadata": {
        "id": "-j-3wBbAb7YL"
      }
    },
    {
      "cell_type": "code",
      "execution_count": null,
      "metadata": {
        "colab": {
          "base_uri": "https://localhost:8080/"
        },
        "id": "oiZjV74Jb6Z5",
        "outputId": "1cc275ca-a1f1-48aa-d8bb-b1d838582884"
      },
      "outputs": [
        {
          "output_type": "stream",
          "name": "stdout",
          "text": [
            "True\n",
            "False\n",
            "False\n",
            "True\n",
            "False\n",
            "True\n"
          ]
        }
      ],
      "source": [
        "def abndnt(n):\n",
        "  sum = 0\n",
        "  for x in range(1, n):\n",
        "    if n % x == 0:\n",
        "      sum += x\n",
        "  return sum > n\n",
        "\n",
        "print(abndnt(12))\n",
        "print(abndnt(14))\n",
        "print(abndnt(16))\n",
        "print(abndnt(20))\n",
        "print(abndnt(22))\n",
        "print(abndnt(24))"
      ]
    },
    {
      "cell_type": "markdown",
      "source": [
        "# 2.\tCreate a high-order function to implement the following calculations\n",
        "\n",
        "def adder(f1, f2):\n",
        "    \"\"\"\n",
        "    Return a function that takes in a single variable x, and returns\n",
        "    f1(x) + f2(x). You can assume the result of f1(x) and f2(x) can be\n",
        "    added together, and they both take in one argument.\n",
        "\n",
        "    def  identity(n):\n",
        "\treturn n \n",
        "    \n",
        "   def  square(n):\n",
        "return n**2\n",
        "\n",
        "    >>> a1 = adder(identity, square)\t\t \n",
        "    >>> a1(4)\t\t\t\t\t# x + x^2 = 4 + 4^2 = 20\n",
        "    20\n",
        "    >>> a2 = adder(a1, identity)     \t\t\n",
        "    >>> a2(4)\t    # a1(4) + identity(4) = identity(4)+ square(4)+ identity(4)\n",
        "    24\t\t\t\t\t\t \n",
        "    >>> a2(5)\n",
        "    35\n",
        "    >>> a3 = adder(a1, a2)           # (x + x^2) + (x + x^2 + x)\n",
        "    >>> a3(4)\n",
        "    44\n",
        "    \"\"\"\n"
      ],
      "metadata": {
        "id": "06LkTiKsdwAn"
      }
    },
    {
      "cell_type": "code",
      "source": [
        "def  identity(n):\n",
        "\treturn n \n",
        "    \n",
        "def  square(n):\n",
        "  return n**2\n",
        "\n",
        "def adder(f1, f2):\n",
        "  def add_functions(x):\n",
        "    return f1(x) + f2(x)\n",
        "\n",
        "  return add_functions\n",
        "\n",
        "a1 = adder(identity, square)\n",
        "print(a1(4))\n",
        "\n",
        "a2 = adder(a1, identity)\n",
        "print(a2(4))\n",
        "print(a2(5))\n",
        "\n",
        "a3 = adder(a1, a2)\n",
        "print(a3(4))"
      ],
      "metadata": {
        "colab": {
          "base_uri": "https://localhost:8080/"
        },
        "id": "Bh9rnW8_eGyP",
        "outputId": "b5d3807d-d23d-4656-f1c1-e6b87b11bf32"
      },
      "execution_count": null,
      "outputs": [
        {
          "output_type": "stream",
          "name": "stdout",
          "text": [
            "20\n",
            "24\n",
            "35\n",
            "44\n"
          ]
        }
      ]
    },
    {
      "cell_type": "markdown",
      "source": [
        "# 3.\tWhat is printed? And explain WHY statement by statement\n",
        "\n",
        "from operator import add\n",
        "\n",
        "def   combine_funcs(op):\n",
        "    def   combined(f, g):\n",
        "        def   val(x):\n",
        "            return   op(f(x), g(x))\n",
        "        return   val\n",
        "    return   combined\n",
        "\n",
        "\n",
        ">>>add_func = combine_funcs(add) # -> op = add\n",
        "\n",
        ">>>h = add_func(abs, neg) # --> add(abs(x) + neg(x))\n",
        ">>>print(h(-5)) #x = -5\n",
        "\n",
        "*notice that python visualization online tool is good software to either observe program execution process or debug your program at http://pythontutor.com/visualize.html#mode=edit\n"
      ],
      "metadata": {
        "id": "HiaNr6JifR5y"
      }
    },
    {
      "cell_type": "code",
      "source": [
        "from operator import add\n",
        "from numpy import negative\n",
        "\n",
        "def   combine_funcs(op):\n",
        "    def   combined(f, g):\n",
        "        def   val(x):\n",
        "            return   op(f(x), g(x))\n",
        "        return   val\n",
        "    return   combined\n",
        "\n",
        "\n",
        "add_func = combine_funcs(add) # -> op = add\n",
        "\n",
        "h = add_func(abs, negative) # --> add(abs(x) + negative(x))\n",
        "print(h(-5)) #x = -5  => add(abs(-5) + negative(-5)) = add(5 + 5) = 10"
      ],
      "metadata": {
        "colab": {
          "base_uri": "https://localhost:8080/"
        },
        "id": "3zqTebNzceQi",
        "outputId": "e281cab7-b8c9-49cb-9b76-5146199958c1"
      },
      "execution_count": null,
      "outputs": [
        {
          "output_type": "stream",
          "name": "stdout",
          "text": [
            "10\n"
          ]
        }
      ]
    },
    {
      "cell_type": "markdown",
      "source": [
        "# 4.\tWrite a function to implement intersects, which takes a one-argument function \"f\" and argument \"x\", returns a function \"g\". It returns True if f(x)=g(x), otherwise False. \n",
        "\n",
        "def   intscts(f, x): \n",
        "\n",
        "  \"\"\"Returns a function that returns if f intersects g at x. \n",
        "\n",
        "  >>> at_three = intscts (square, 3) \n",
        "  >>> at_three(triple) \t\t# triple(3) == square(3) \n",
        "  True \n",
        "  >>> at_three(increment) \n",
        "  False \n",
        "  >>> at_one = intscts (identity, 1) \n",
        "  >>> at_one(square) \n",
        "  True \n",
        "  >>> at_one(triple) \n",
        "  False \n",
        "  \"\"\"\n"
      ],
      "metadata": {
        "id": "hKYvKQXefnxF"
      }
    },
    {
      "cell_type": "code",
      "source": [
        "def square(x):\n",
        "  return x**2\n",
        "\n",
        "def triple(x):\n",
        "  return 3*x\n",
        "\n",
        "def increment(x):\n",
        "  return x+1\n",
        "\n",
        "def intscts(f, x):\n",
        "  def return_f(g):\n",
        "    return f(x) == g(x)\n",
        "\n",
        "  return return_f\n",
        "\n",
        "at_three = intscts (square, 3) \n",
        "print(at_three(triple))\t\t# triple(3) == square(3) \n",
        "print(at_three(increment) )\n",
        " \n",
        "at_one = intscts (identity, 1) \n",
        "print(at_one(square)) \n",
        "print(at_one(triple))\n"
      ],
      "metadata": {
        "colab": {
          "base_uri": "https://localhost:8080/"
        },
        "id": "kN00W-x1fXsj",
        "outputId": "f1533d68-22c7-43ff-a778-ab3d4a8b0d92"
      },
      "execution_count": null,
      "outputs": [
        {
          "output_type": "stream",
          "name": "stdout",
          "text": [
            "True\n",
            "False\n",
            "True\n",
            "False\n"
          ]
        }
      ]
    },
    {
      "cell_type": "markdown",
      "source": [
        "# 5.\tComplete the following function \n",
        "\n",
        "def     f(): \n",
        "  \"\"\" \n",
        "  >>> f()()(3)() \n",
        "  3 \n",
        "  \"\"\"\n",
        "  # Your Program\n"
      ],
      "metadata": {
        "id": "FxX-EmGhYz2r"
      }
    },
    {
      "cell_type": "code",
      "source": [
        "def f():\n",
        "  def f1():\n",
        "    def f2(x):\n",
        "      def f3():\n",
        "        # nonlocal x\n",
        "        print(x)\n",
        "      return f3\n",
        "    return f2\n",
        "  return f1\n",
        "\n",
        "f()()(3)()"
      ],
      "metadata": {
        "colab": {
          "base_uri": "https://localhost:8080/"
        },
        "id": "zvMaB-4iY3Ma",
        "outputId": "9922c608-ec4e-4771-e162-94ece2e8a407"
      },
      "execution_count": null,
      "outputs": [
        {
          "output_type": "stream",
          "name": "stdout",
          "text": [
            "3\n"
          ]
        }
      ]
    },
    {
      "cell_type": "markdown",
      "source": [
        "# 6.\tDefine a function \"smth\" that takes a function g and a value to use for dx and returns a function that computes the smoothed version of g. Do NOT use any \"def\" statements inside of \"smth\", but use \"lambda\" expressions instead. \n",
        "\n",
        "def    smth(g, dx): \n",
        "   \"\"\"Returns the smoothed version of g, f where \n",
        "   f(x) = (g(x - dx) + g(x) + g(x + dx)) / 3 \n",
        "\n",
        "   >>> square = lambda x: x ** 2 \n",
        "   >>> round(smth(square, 1)(0), 3) \n",
        "   0.667 \n",
        "   \"\"\"\n"
      ],
      "metadata": {
        "id": "GkK2egvohJDW"
      }
    },
    {
      "cell_type": "markdown",
      "source": [],
      "metadata": {
        "id": "n83jNaAlY2Tq"
      }
    },
    {
      "cell_type": "code",
      "source": [
        "def smth(g, dx):\n",
        "  return lambda x: (g(x-dx) + g(x) + g(x + dx))/3\n",
        "\n",
        "square = lambda x: x ** 2 \n",
        "print(round(smth(square, 1)(0), 3) )\n"
      ],
      "metadata": {
        "colab": {
          "base_uri": "https://localhost:8080/"
        },
        "id": "mtlxCNBQhK5a",
        "outputId": "0d9110b6-2198-4cfd-dea8-d671e2321d34"
      },
      "execution_count": null,
      "outputs": [
        {
          "output_type": "stream",
          "name": "stdout",
          "text": [
            "0.667\n"
          ]
        }
      ]
    },
    {
      "cell_type": "markdown",
      "source": [
        "# 7.\tDefine a function \"cyc\" that takes in three functions g1, g2, and g3 as arguments. \"cyc\" will return another function that should take in an integer argument n and return another function. That final function should take in an argument x and cycle through applying g1, g2, and g3 to x, depending on what n was. Here's what the final function should do to x for a few values of n:\n",
        "\n",
        "•\tn = 0, return x\n",
        "•\tn = 1, apply g1 to x, or return g1(x)\n",
        "•\tn = 2, apply g1 to x and then g2 to the result of that, or return g2(g1(x))\n",
        "•\tn = 3, apply g1 to x, g2 to the result of applying g1, and then g3 to the result of applying g2, or g3(g2(g1(x)))\n",
        "•\tn = 4, start the cycle again applying g1, then g2, then g3, then g1 again, or g1(g3(g2(g1(x))))\n",
        "•\tAnd so forth.\n",
        "\n",
        "*Hint: most of the work goes inside the most nested function.\n",
        "\n",
        "def  cyc(g1, g2, g3):\n",
        "    \"\"\" Returns a function that is itself a higher order function\n",
        "    >>> def add_one(x):\n",
        "    ...        return x + 1\n",
        "\n",
        "    >>> def times_two(x):\n",
        "    ...        return x * 2\n",
        "\n",
        "    >>> def add_three(x):\n",
        "    ...        return x + 3\n",
        "\n",
        "    >>> my_cyc = cyc(add_one, times_two, add_three)\n",
        "    >>> h= my_cyc(0)\n",
        "    >>> h(5)\n",
        "    5\n",
        "\n",
        "    >>> h = my_cyc(2)\n",
        "    >>> h(1)\t\t# times_two (add_one (1))\n",
        "    4\t\t\t\t\t\t\t\n",
        "    >>> h = my_cyc(3)        \n",
        "    >>> h(2)\t\t# add_three (times_two (add_one (2)))\n",
        "    9\n",
        "\n",
        "    >>> h = my_cyc(4)\n",
        "    >>> h(2)\t\t# add_one (add_three (times_two (add_one (2))))\n",
        "    10\n",
        "\n",
        "    >>> h = my_cyc(6)\n",
        "    >>> h(1)\n",
        "    19\t   #add_three(times_two (add_one (add_three (times_two (add_one (1))))))\n",
        "    \"\"\"\n"
      ],
      "metadata": {
        "id": "UvEquqIRxwOq"
      }
    },
    {
      "cell_type": "code",
      "source": [
        "def add_one(x):\n",
        "  return x + 1\n",
        "\n",
        "def add_two(x):\n",
        "  return x + 2\n",
        "\n",
        "def add_three(x):\n",
        "  return x + 3\n",
        "\n",
        "def  cyc(g1, g2, g3):\n",
        "  def return_cyc(n):\n",
        "    def compose_f(x):\n",
        "      nonlocal n\n",
        "      if n == 0:\n",
        "        return x\n",
        "      elif n == 1:\n",
        "        return g1(x)\n",
        "      elif n % 3 == 2:\n",
        "        n -= 1\n",
        "        return g2(compose_f(x))\n",
        "      elif n % 3 == 0:\n",
        "        n -= 1\n",
        "        return g3(compose_f(x))\n",
        "      elif n % 3 == 1:\n",
        "        n -= 1\n",
        "        return g1(compose_f(x))\n",
        "    return compose_f\n",
        "  return return_cyc\n",
        "\n",
        "my_cyc = cyc(add_one, add_two, add_three)\n",
        "h= my_cyc(2)\n",
        "print(h(1))\n",
        "\n",
        "\n",
        "h = my_cyc(3)        \n",
        "print(h(2))        # add_three (times_two (add_one (2)))\n",
        "\n",
        "\n",
        "h = my_cyc(4)\n",
        "print(h(2))        # add_one (add_three (times_two (add_one (2))))\n",
        "\n",
        "\n",
        "h = my_cyc(6)\n",
        "print(h(1))"
      ],
      "metadata": {
        "colab": {
          "base_uri": "https://localhost:8080/"
        },
        "id": "PX2I75vCxx7X",
        "outputId": "eff64b3e-e723-4d0e-d3b1-d4ea3252d627"
      },
      "execution_count": 2,
      "outputs": [
        {
          "output_type": "stream",
          "name": "stdout",
          "text": [
            "4\n",
            "8\n",
            "9\n",
            "13\n"
          ]
        }
      ]
    },
    {
      "cell_type": "markdown",
      "source": [
        "# Lambda function Hints from Professor"
      ],
      "metadata": {
        "id": "DX_gghhWcZJ6"
      }
    },
    {
      "cell_type": "code",
      "source": [
        "def add(x, y):\n",
        "  return x+y\n",
        "foo = lambda f,x: lambda y: f(x,y)\n",
        "\n",
        "foo(add, 3)(4)"
      ],
      "metadata": {
        "colab": {
          "base_uri": "https://localhost:8080/"
        },
        "id": "tcaPc_Q7b9Kf",
        "outputId": "12f93881-e01a-4f3f-a8f4-a6b5d1585dc8"
      },
      "execution_count": 1,
      "outputs": [
        {
          "output_type": "execute_result",
          "data": {
            "text/plain": [
              "7"
            ]
          },
          "metadata": {},
          "execution_count": 1
        }
      ]
    },
    {
      "cell_type": "markdown",
      "source": [],
      "metadata": {
        "id": "g8u1UuK7cZQL"
      }
    }
  ]
}