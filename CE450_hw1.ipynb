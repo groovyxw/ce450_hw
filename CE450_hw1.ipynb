{
  "nbformat": 4,
  "nbformat_minor": 0,
  "metadata": {
    "colab": {
      "provenance": [],
      "authorship_tag": "ABX9TyMDqnhOzGs1Eitb0E0B6cUw",
      "include_colab_link": true
    },
    "kernelspec": {
      "name": "python3",
      "display_name": "Python 3"
    },
    "language_info": {
      "name": "python"
    }
  },
  "cells": [
    {
      "cell_type": "markdown",
      "metadata": {
        "id": "view-in-github",
        "colab_type": "text"
      },
      "source": [
        "<a href=\"https://colab.research.google.com/github/groovyxw/ce450_hw/blob/main/CE450_hw1.ipynb\" target=\"_parent\"><img src=\"https://colab.research.google.com/assets/colab-badge.svg\" alt=\"Open In Colab\"/></a>"
      ]
    },
    {
      "cell_type": "markdown",
      "source": [
        "# 1. Build up a function to implement the following operation\n",
        "def  if_function(condition, true_result, false_result):\n",
        "    \"\"\"Return true_result if condition is a true value, and\n",
        "    false_result otherwise.\n",
        "    >>> if_function(True, 2, 3)\n",
        "    2\n",
        "    >>> if_function(False, 2, 3)\n",
        "    3\n",
        "    >>> if_function(3==2, 3+2, 3-2)\n",
        "    1\n",
        "    >>> if_function(3>2, 3+2, 3-2)\n",
        "    5\n",
        "    \"\"\""
      ],
      "metadata": {
        "id": "-AOzS6EoJsD6"
      }
    },
    {
      "cell_type": "code",
      "execution_count": null,
      "metadata": {
        "colab": {
          "base_uri": "https://localhost:8080/"
        },
        "id": "5H6x-rzoVTsl",
        "outputId": "011da825-aa96-487a-d13a-a58a2db0e2f6"
      },
      "outputs": [
        {
          "output_type": "stream",
          "name": "stdout",
          "text": [
            "2\n",
            "3\n",
            "1\n",
            "5\n"
          ]
        }
      ],
      "source": [
        "def if_function(trueorfalse, n, m):\n",
        "  if trueorfalse is True:\n",
        "    return n\n",
        "  else:\n",
        "    return m\n",
        "\n",
        "print(if_function(True, 2, 3))\n",
        "print(if_function(False, 2, 3))\n",
        "print(if_function(3==2, 3+2, 3-2))\n",
        "print(if_function(3>2, 3+2, 3-2))"
      ]
    },
    {
      "cell_type": "markdown",
      "source": [
        "# 2. Create a function to add odd numbers less equal than numeric input parameter together \n",
        "as follows\n",
        "          \"\"\"\n",
        ">>> sum_odd(6) #1+3+5\n",
        "9\n",
        ">>>sum_odd(7) #1+3+5+7\n",
        "16\n",
        "           \"\"\""
      ],
      "metadata": {
        "id": "R8emsrIAJvQF"
      }
    },
    {
      "cell_type": "code",
      "source": [
        "def sum_odd(n):\n",
        "  i,sum = 1,0\n",
        "  while(i <= n):\n",
        "    sum += i\n",
        "    i += 2\n",
        "  return sum\n",
        "print(sum_odd(6)) #1+3+5\n",
        "print(sum_odd(7)) #1+3+5+7"
      ],
      "metadata": {
        "colab": {
          "base_uri": "https://localhost:8080/"
        },
        "id": "F-Gbr6EwWQxi",
        "outputId": "9bec4470-62c1-48cb-89a5-04e873584760"
      },
      "execution_count": null,
      "outputs": [
        {
          "output_type": "stream",
          "name": "stdout",
          "text": [
            "9\n",
            "16\n"
          ]
        }
      ]
    },
    {
      "cell_type": "markdown",
      "source": [
        "# 3. Define a function for 4 inputs a, b, c, d, and return sum of square of two smallest \n",
        "number from a, b, c and d, such as\n",
        "        \"\"\"\n",
        ">>> foo(1, 2, 3, 4)\n",
        ">>> 5 # 12 + 22 = 5\n",
        ">>> foo(-3, 1, 5, 6)\n",
        ">>> 10 # ( ―3)2 + 12 = 10\n",
        "         \"\"\""
      ],
      "metadata": {
        "id": "cQa3jDtZJzyj"
      }
    },
    {
      "cell_type": "code",
      "source": [
        "def foo(a,b,c,d):\n",
        "  vec=[a,b,c,d]\n",
        "  vec.sort()\n",
        "  #print(vec)\n",
        "  return vec[0]**2 + vec[1]**2\n",
        "\n",
        "print(foo(1, 2, 3, 4))\n",
        "print(foo(-3, 1, 5, 6))"
      ],
      "metadata": {
        "colab": {
          "base_uri": "https://localhost:8080/"
        },
        "id": "yFbBy2jubnD4",
        "outputId": "eff95e88-517b-411d-9a99-a0ca2ae8d222"
      },
      "execution_count": null,
      "outputs": [
        {
          "output_type": "stream",
          "name": "stdout",
          "text": [
            "5\n",
            "10\n"
          ]
        }
      ]
    },
    {
      "cell_type": "markdown",
      "source": [
        "# 4. Write a function named \"df\" that takes three integers x, y, and z. It returns whether \n",
        "subtracting one of these numbers from another gives the third.\n",
        "    >>> df(5, 3, 2) # 5 - 3 is 2\n",
        "    True\n",
        "    >>> df(2, 3, 5) # 5 - 3 is 2\n",
        "    True\n",
        "    >>> df(2, 5, 3) # 5 - 3 is 2\n",
        "    True\n",
        "    >>> df(-2, 3, 5) # 3 - 5 is -2\n",
        "    True\n",
        "    >>> df(-5, -3, -2) # -5 - -2 is -3\n",
        "    True\n",
        "    >>> df(-2, 3, -5) # -2 - 3 is -5\n",
        "    True\n",
        "    >>> df(2, 3, -5)\n",
        "    False\n",
        "    >>> df(10, 6, 4)\n",
        "    True\n",
        "    >>> df(10, 6, 3)\n",
        "False"
      ],
      "metadata": {
        "id": "3JVpAnqaJ4IJ"
      }
    },
    {
      "cell_type": "code",
      "source": [
        "def df(x,y,z):\n",
        "\n",
        "  return (abs(x - y) == abs(z)) or (abs(x - z) == abs(y)) or (abs(y-z) == abs(x))\n",
        "\n",
        "print(df(5, 3, 2) )\n",
        "print(df(2, 3, 5) )\n",
        "print(df(2, 5, 3) )\n",
        "print(df(-2, 3, 5))\n",
        "print(df(-5, -3, -2) )\n",
        "print(df(-2, 3, -5) )\n",
        "print(df(2, 3, -5))\n",
        "print(df(10, 6, 4))\n",
        "print(df(10, 6, 3))"
      ],
      "metadata": {
        "colab": {
          "base_uri": "https://localhost:8080/"
        },
        "id": "ScU0kS2aimRc",
        "outputId": "73e22287-35c5-47de-ca95-d16039251f83"
      },
      "execution_count": null,
      "outputs": [
        {
          "output_type": "stream",
          "name": "stdout",
          "text": [
            "True\n",
            "True\n",
            "True\n",
            "True\n",
            "True\n",
            "True\n",
            "False\n",
            "True\n",
            "False\n"
          ]
        }
      ]
    },
    {
      "cell_type": "markdown",
      "source": [
        "# 5. Create a function that takes an integer m greater than 1 and returns the largest integer \n",
        "smaller than m that evenly divides m.\n",
        "def  lrgst_factor(m):\n",
        "\"\"\"Return the largest factor of n that is smaller than n.\n",
        "    >>> lrgst_factor (15) # factors are 1, 3, 5\n",
        "    5\n",
        "    >>> lrgst_factor (80) # factors are 1, 2, 4, 5, 8, 10, 16, 20, 40\n",
        "    40\n",
        "\"\"\""
      ],
      "metadata": {
        "id": "QUQ4o5GlKCO4"
      }
    },
    {
      "cell_type": "code",
      "source": [
        "def  lrgst_factor(m):\n",
        "#\"\"\"Return the largest factor of n that is smaller than m.\"\"\"\n",
        "    f = m - 1\n",
        "    while(f > 0):\n",
        "      if(m%f == 0):\n",
        "        return f\n",
        "      f -= 1\n",
        "\n",
        "print( lrgst_factor (15) )\n",
        "print( lrgst_factor (80) )"
      ],
      "metadata": {
        "id": "GyAay8aUhr5V",
        "colab": {
          "base_uri": "https://localhost:8080/"
        },
        "outputId": "968908f0-8e5c-4cb4-acf2-b15e1828d514"
      },
      "execution_count": 21,
      "outputs": [
        {
          "output_type": "stream",
          "name": "stdout",
          "text": [
            "5\n",
            "40\n"
          ]
        }
      ]
    },
    {
      "cell_type": "markdown",
      "source": [
        "# 6. Define a function which takes in a number n and determines whether the number is a \n",
        "perfect number. A perfect number is equal to the sum of its factors. For instance, 6 is a \n",
        "perfect number since 6 = 1 + 2 + 3.\n",
        "def pfct_num(m):\n",
        "    \"\"\"\n",
        "    Returns True or False indicating whether \"n\" is a perfect \n",
        "    number. A number is a perfect number when the sum of all its \n",
        "    factors equal the number itself.\n",
        "    >>> pfct_num (6)\n",
        "    True\n",
        "    >>> pfct_num (8)\n",
        "    False\n",
        "    >>> pfct_num (28)\n",
        "True\n",
        "\"\"\""
      ],
      "metadata": {
        "id": "rzVbIAIhKO11"
      }
    },
    {
      "cell_type": "code",
      "source": [
        "def pfct_num(m):\n",
        "    sum, f = 0, m-1\n",
        "    while(f > 0):\n",
        "      if(m%f == 0):\n",
        "        #print(f)\n",
        "        sum += f\n",
        "      f -= 1\n",
        "    return sum == m\n",
        "\n",
        "\n",
        "print(pfct_num (6))\n",
        "print(pfct_num (8))\n",
        "print(pfct_num (28))"
      ],
      "metadata": {
        "colab": {
          "base_uri": "https://localhost:8080/"
        },
        "id": "OrckHohJqWXI",
        "outputId": "3257dac1-6242-4e1a-c6d2-952d5d733d62"
      },
      "execution_count": 25,
      "outputs": [
        {
          "output_type": "stream",
          "name": "stdout",
          "text": [
            "True\n",
            "False\n",
            "True\n"
          ]
        }
      ]
    },
    {
      "cell_type": "markdown",
      "source": [
        "# 7. Implement a function to check if the number of bits from two positive input parameters is \n",
        "the same or not.\n",
        "def    same_ord(a, b):\n",
        "    \"\"\"Return whether positive integers a and b have the same number of \n",
        "digits.\n",
        "    >>> same_ord(50, 70) # 2 bits of a and b\n",
        "    True\n",
        "    >>> same_ord(50, 100) # a is 2 bits; b is 3 bits\n",
        "    False\n",
        "    >>> same_ord(1000, 100000) # a is 4 bits; b is 6 bits\n",
        "    False\n",
        "\"\"\""
      ],
      "metadata": {
        "id": "tLsaWeczKcSy"
      }
    },
    {
      "cell_type": "code",
      "source": [
        "def num_of_digits(n):\n",
        "  return len(str(n))\n",
        "\n",
        "def same_ord(a, b):\n",
        "     #print(num_of_digits(a), num_of_digits(b))\n",
        "     return num_of_digits(a) == num_of_digits(b)\n",
        "\n",
        "\n",
        "print(same_ord(50, 70))\n",
        "print(same_ord(50, 100))\n",
        "print(same_ord(1000, 100000))"
      ],
      "metadata": {
        "colab": {
          "base_uri": "https://localhost:8080/"
        },
        "id": "tSKY3yNqt1Sw",
        "outputId": "de25c236-a1f9-4b54-f181-278359d9cf76"
      },
      "execution_count": 1,
      "outputs": [
        {
          "output_type": "stream",
          "name": "stdout",
          "text": [
            "2 2\n",
            "True\n",
            "2 3\n",
            "False\n",
            "4 6\n",
            "False\n"
          ]
        }
      ]
    },
    {
      "cell_type": "markdown",
      "source": [
        "# 8.Write a function that takes in a number and determines if the digits contain two adjacent 5s.\n",
        "def double_5(n):\n",
        "\"\"\"Return true if n has two fives in a row.\n",
        "    >>> double_5 (5)\n",
        "    False\n",
        "    >>> double_5 (55)\n",
        "    True\n",
        "    >>> double_5 (550055)\n",
        "    True\n",
        "    >>> double_5 (12345)\n",
        "    False\n",
        "    >>> double_5 (50505050)\n",
        "    False\n",
        "\"\"\""
      ],
      "metadata": {
        "id": "QqXfIzNn_Rza"
      }
    },
    {
      "cell_type": "code",
      "source": [
        "def double_5(n):\n",
        "  ns = str(n)\n",
        "  for i in range(1, len(ns)):\n",
        "    if ns[i] == '5' and ns[i-1] == '5':\n",
        "      return True\n",
        "  return False\n",
        "\n",
        "print(double_5 (5))\n",
        "print(double_5 (55))\n",
        "\n",
        "print(double_5 (550055))\n",
        "print(double_5 (12345))\n",
        "\n",
        "print(double_5 (50505050))"
      ],
      "metadata": {
        "colab": {
          "base_uri": "https://localhost:8080/"
        },
        "id": "iZZ9dn4l_V4u",
        "outputId": "75692107-2a94-427e-c1c8-40febed93147"
      },
      "execution_count": 4,
      "outputs": [
        {
          "output_type": "stream",
          "name": "stdout",
          "text": [
            "False\n",
            "True\n",
            "True\n",
            "False\n",
            "False\n"
          ]
        }
      ]
    },
    {
      "cell_type": "markdown",
      "source": [
        "# 9. Design a function that returns the number of unique digits in a positive integer.\n",
        "\n",
        "def uniq_digits(x):\n",
        "    \"\"\"Return the number of unique digits in positive integer n\n",
        "    >>> uniq_digits (8675309) # All are unique\n",
        "    7\n",
        "    >>> uniq_digits (1313131) # 1 and 3\n",
        "    2\n",
        "    >>> uniq_digits (13173131) # 1, 3, and 7\n",
        "    3\n",
        "    >>> uniq_digits (10000) # 0 and 1\n",
        "    2\n",
        "    >>> uniq_digits (101) # 0 and 1"
      ],
      "metadata": {
        "id": "iHF2eZFZApFX"
      }
    },
    {
      "cell_type": "code",
      "source": [
        "\n",
        "def uniq_digits(x):\n",
        "  cset = set()\n",
        "  for c in list(str(x)):\n",
        "    cset.add(c)\n",
        "\n",
        "  return (len(cset))\n",
        "\n",
        "print(uniq_digits(8675309))\n",
        "print(uniq_digits (1313131) )\n",
        "print(uniq_digits(13173131))\n",
        "print(uniq_digits (10000) )\n",
        "print(uniq_digits(101))\n",
        "print(uniq_digits (10) )"
      ],
      "metadata": {
        "colab": {
          "base_uri": "https://localhost:8080/"
        },
        "id": "BBAQYrSxAt1b",
        "outputId": "36ad9f58-e10a-4b10-f8da-d874a4a1ccda"
      },
      "execution_count": 14,
      "outputs": [
        {
          "output_type": "stream",
          "name": "stdout",
          "text": [
            "7\n",
            "2\n",
            "3\n",
            "2\n",
            "2\n",
            "2\n"
          ]
        }
      ]
    },
    {
      "cell_type": "markdown",
      "source": [
        "# 10. Write a def function \"amc\" with a positive integer \"n\" input parameter. It returns the \n",
        "smallest amicable number greater than \"n\". Two different numbers are both amicable \n",
        "if the sum of the proper divisors of each is equal to the other. Any number that's part of \n",
        "such a pair is an amicable number.\n",
        "*Hint: You may want to create a separate function to sum proper divisors.\n",
        "def  amc(n):\n",
        "\"\"\"\n",
        "Return the smallest amicable number greater than positive integer n.\n",
        "    Every amicable number x has a buddy y different from x, such that\n",
        "    the sum of the proper divisors of x equals y, and\n",
        "    the sum of the proper divisors of y equals x.\n",
        "    For example, 220 and 284 are both amicable because\n",
        "    1 + 2 + 4 + 5 + 10 + 11 + 20 + 22 + 44 + 55 + 110 is 284, and\n",
        "    1 + 2 + 4 + 71 + 142 is 220"
      ],
      "metadata": {
        "id": "avz8qXw4DcWO"
      }
    },
    {
      "cell_type": "code",
      "source": [
        "from re import I\n",
        "def  amc(m):\n",
        "  n = m + 1\n",
        "  while True:\n",
        "    sum1 = sum_of_divisors(n)\n",
        "    sum2 = sum_of_divisors(sum1)\n",
        "    if sum1 != n and sum2 == n:\n",
        "      return n\n",
        "    n += 1\n",
        "  return -1\n",
        "    \n",
        "\n",
        "def sum_of_divisors(n):\n",
        "  sum = 0\n",
        "  for i in range(1, n):\n",
        "    if n%i == 0:\n",
        "      sum += i\n",
        "  return sum\n",
        "\n",
        "print(amc(5))\n",
        "print(amc(220))\n",
        "print(amc(284))\n",
        "r = amc(5000)\n",
        "print(r)\n",
        "\n"
      ],
      "metadata": {
        "colab": {
          "base_uri": "https://localhost:8080/"
        },
        "id": "_YeREa-gDgws",
        "outputId": "950f24f9-815e-44a8-dea2-039a78aee5b2"
      },
      "execution_count": 19,
      "outputs": [
        {
          "output_type": "stream",
          "name": "stdout",
          "text": [
            "220\n",
            "284\n",
            "1184\n",
            "5020\n"
          ]
        }
      ]
    }
  ]
}