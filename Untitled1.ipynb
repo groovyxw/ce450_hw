{
  "nbformat": 4,
  "nbformat_minor": 0,
  "metadata": {
    "colab": {
      "provenance": [],
      "authorship_tag": "ABX9TyPt8G3Des8Fsxvh3LRSxcaS",
      "include_colab_link": true
    },
    "kernelspec": {
      "name": "python3",
      "display_name": "Python 3"
    },
    "language_info": {
      "name": "python"
    }
  },
  "cells": [
    {
      "cell_type": "markdown",
      "metadata": {
        "id": "view-in-github",
        "colab_type": "text"
      },
      "source": [
        "<a href=\"https://colab.research.google.com/github/groovyxw/ce450_hw/blob/main/Untitled1.ipynb\" target=\"_parent\"><img src=\"https://colab.research.google.com/assets/colab-badge.svg\" alt=\"Open In Colab\"/></a>"
      ]
    },
    {
      "cell_type": "markdown",
      "source": [
        "# 6.\tWhat would Python print? And explain why as above"
      ],
      "metadata": {
        "id": "oGwenCfHQvRy"
      }
    },
    {
      "cell_type": "code",
      "source": [
        "x = \"x\" \n",
        "g = x \n",
        "def x(x): \n",
        "  g = \"h\" \n",
        "  if x == g: \n",
        "    return x + \"i\" \n",
        "  x = lambda x: x(g) \n",
        "  return lambda g: x(g) \n",
        "\n",
        "x = x(x)(x) \n",
        "print(x)\n",
        "print(g)\n"
      ],
      "metadata": {
        "colab": {
          "base_uri": "https://localhost:8080/"
        },
        "id": "oqVXEfC2DmEn",
        "outputId": "d8621825-8908-42be-f0f7-23659de18550"
      },
      "execution_count": 37,
      "outputs": [
        {
          "output_type": "stream",
          "name": "stdout",
          "text": [
            "hi\n",
            "x\n"
          ]
        }
      ]
    },
    {
      "cell_type": "markdown",
      "source": [
        "# 7.\tDefine a function with one argument like a positive number x and returns the powers of two, which is nearest to x. If x is exactly between two powers of two, return the larger.\n",
        "def  nrst_two(x):    \n",
        "    \"\"\"\n",
        "    >>> nrst_two(8)    \t# 2^3 is 8\n",
        "    8.0\n",
        "    >>> nrst_two (11.5) \t# 11.5 is closer to 8(=2^3) than 16(=2^4)\n",
        "    8.0\n",
        "    >>> nrst_two (14)  \t# 14 is closer to 16 than 8\n",
        "    16.0\n",
        "    >>> nrst_two (2019)  \t# 2^10 = 1024; \t2^11=2048.0 \n",
        "    2048.0\t\t\t\t\t\n",
        "    >>> nrst_two (0.1)\n",
        "    0.125\n",
        "    >>> nrst_two (0.75)\t# Tie between ½(=2^(-1)) and 1(=2^0)\n",
        "    1.0\n",
        "    >>> nrst_two (1.5) \t# Tie between 1 and 2(=2^1)\n",
        " 2.0\n",
        "\t \"\"\"\n"
      ],
      "metadata": {
        "id": "B0Xka2uMEeCC"
      }
    },
    {
      "cell_type": "code",
      "source": [
        "def nrst_two(x):\n",
        "  p, res = 0, 1\n",
        "  min, max = None, None\n",
        "  if(x > 1):\n",
        "    while(res != x):\n",
        "      if res < x:\n",
        "        min = res\n",
        "      else:\n",
        "        max = res\n",
        "        break\n",
        "      p += 1\n",
        "      res = 2 ** p\n",
        "  else:\n",
        "    while(res != x):\n",
        "      if res > x:\n",
        "        max = res\n",
        "      else:\n",
        "        min = res\n",
        "        break\n",
        "      p -= 1\n",
        "      res = 2 ** p\n",
        "\n",
        "  if(res == x):\n",
        "    return res;\n",
        "  elif (x - min) < (max - x):\n",
        "    return min\n",
        "  else:\n",
        "    return max\n",
        "\n",
        "print(nrst_two(8))\n",
        "print(nrst_two(11.5))\n",
        "print(nrst_two(14))\n",
        "print(nrst_two(2019))\n",
        "print(nrst_two(0.1))\n",
        "print(nrst_two(0.75))\n",
        "print(nrst_two(1.5))"
      ],
      "metadata": {
        "colab": {
          "base_uri": "https://localhost:8080/"
        },
        "id": "LdthVbrPEcVR",
        "outputId": "3b78c5d9-c120-46a2-8fd4-f9704c58ed9b"
      },
      "execution_count": 35,
      "outputs": [
        {
          "output_type": "stream",
          "name": "stdout",
          "text": [
            "8\n",
            "8\n",
            "16\n",
            "2048\n",
            "0.125\n",
            "1\n",
            "2\n"
          ]
        }
      ]
    },
    {
      "cell_type": "markdown",
      "source": [
        "# 8.\tCreate a function in recursion to check whether input argument is palindrome if it reads the same forwards and backwards.\n",
        "\n",
        "def  is_plndrm(n):\n",
        "  \"\"\"\n",
        "  >>> is_plndrm (45654)\n",
        "  True\n",
        "  >>> is_plndrm (42)\n",
        "  False\n",
        "  >>> is_plndrm (2019)\n",
        "  False\n",
        "  >>> is_plndrm (10101)\n",
        "  True\n",
        "  \"\"\"\n"
      ],
      "metadata": {
        "id": "3kyB7kn3Ii6Z"
      }
    },
    {
      "cell_type": "code",
      "source": [
        "def is_plndrm_str(s):\n",
        "  if len(s) == 1:\n",
        "    return True\n",
        "  if s[0] != s[-1]:\n",
        "    return False\n",
        "  return is_plndrm_str(s[1:len(s)-1])\n",
        "\n",
        "def is_plndrm(n):\n",
        "  return is_plndrm_str(str(n))\n",
        "\n",
        "print(is_plndrm (45654))\n",
        "print(is_plndrm (42))\n",
        "print(is_plndrm (2019))\n",
        "print(is_plndrm (10101))"
      ],
      "metadata": {
        "colab": {
          "base_uri": "https://localhost:8080/"
        },
        "id": "zMA9KcCXIl3F",
        "outputId": "aeb5ff22-3309-42db-c306-d13574f20367"
      },
      "execution_count": 25,
      "outputs": [
        {
          "output_type": "stream",
          "name": "stdout",
          "text": [
            "True\n",
            "False\n",
            "False\n",
            "True\n"
          ]
        }
      ]
    },
    {
      "cell_type": "markdown",
      "source": [
        "# 9.\tDefine a function \"has_subls\" in recursive call with two lists as arguments, ls and subls, and returns if the elements of subls appear in order anywhere within ls.\n",
        "\n",
        "def  has_subls (ls, subls):\n",
        "  \"\"\"Returns if the elements of subls appear in order anywhere within list ls.\n",
        "  >>> has_subls ([], [])\n",
        "  True\n",
        "  >>> has_subls ([3, 3, 2, 1], [])\n",
        "  True\n",
        "  >>> has_subls ([], [3, 3, 2, 1])\n",
        "  False\n",
        "  >>> has_subls ([3, 3, 2, 1], [3, 2, 1])\n",
        "  True\n",
        "  >>> has_subls ([3, 2, 1], [3, 2, 1])\n",
        "  True\n",
        "  \"\"\"\n"
      ],
      "metadata": {
        "id": "brr3eyKRJnAd"
      }
    },
    {
      "cell_type": "code",
      "source": [
        "def has_subls(ls, subls):\n",
        "\n",
        "  if len(ls) == 0 and len(subls) == 0:\n",
        "    return True\n",
        "  elif len(subls) == 0:\n",
        "    return True\n",
        "  elif len(ls) < len(subls):\n",
        "    return False\n",
        "  else:\n",
        "    if ls[0] != subls[0]:\n",
        "      return has_subls(ls[1:], subls)\n",
        "    else:\n",
        "      return has_subls(ls[1:], subls[1:]) or has_subls(ls[1:], subls)\n",
        "\n",
        "print(has_subls ([], []))\n",
        "print(has_subls ([3, 3, 2, 1], []))\n",
        "print(has_subls ([], [3, 3, 2, 1]))\n",
        "print(has_subls ([3, 3, 2, 1], [3, 2, 1]))\n",
        "print(has_subls ([3, 2, 1], [3, 2, 1]))\n"
      ],
      "metadata": {
        "colab": {
          "base_uri": "https://localhost:8080/"
        },
        "id": "KWwA7ybZJqgl",
        "outputId": "6a06e19c-d12e-4fe2-f5af-3a1ea82c12dc"
      },
      "execution_count": 34,
      "outputs": [
        {
          "output_type": "stream",
          "name": "stdout",
          "text": [
            "True\n",
            "True\n",
            "False\n",
            "True\n",
            "True\n"
          ]
        }
      ]
    }
  ]
}