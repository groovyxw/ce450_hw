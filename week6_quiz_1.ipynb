{
  "nbformat": 4,
  "nbformat_minor": 0,
  "metadata": {
    "colab": {
      "provenance": [],
      "authorship_tag": "ABX9TyNGQOlzfDLmDaHNzKTM/uet",
      "include_colab_link": true
    },
    "kernelspec": {
      "name": "python3",
      "display_name": "Python 3"
    },
    "language_info": {
      "name": "python"
    }
  },
  "cells": [
    {
      "cell_type": "markdown",
      "metadata": {
        "id": "view-in-github",
        "colab_type": "text"
      },
      "source": [
        "<a href=\"https://colab.research.google.com/github/groovyxw/ce450_hw/blob/main/week6_quiz_1.ipynb\" target=\"_parent\"><img src=\"https://colab.research.google.com/assets/colab-badge.svg\" alt=\"Open In Colab\"/></a>"
      ]
    },
    {
      "cell_type": "markdown",
      "source": [
        "# 1.\tDefine a function in recursion to check if there is a digit in positive number argument, which is the same as a single bit target value, or not\n",
        "\n",
        "def has_seven(k, target):\n",
        "\n",
        "    \"\"\"Returns True if at least one of the digits of k is a 7if target is 7, False otherwise.\n",
        "\n",
        "    >>> has_seven(3, 7)\n",
        "    False\n",
        "    >>> has_seven(7, 7)\n",
        "    True\n",
        "    >>> has_seven(2734, 7)\n",
        "    True\n",
        "    >>> has_seven(2634, 7)\n",
        "    False\n",
        "    >>> has_seven(734, 7)\n",
        "    True\n",
        "    >>> has_seven(7777, 7)\n",
        "    True\n",
        "    \"\"\"\n"
      ],
      "metadata": {
        "id": "hK76DnbrVgEo"
      }
    },
    {
      "cell_type": "code",
      "execution_count": 5,
      "metadata": {
        "colab": {
          "base_uri": "https://localhost:8080/"
        },
        "id": "CAwXKG5uVdkh",
        "outputId": "da4d1c49-072d-4144-a4c8-a49c40598d79"
      },
      "outputs": [
        {
          "output_type": "stream",
          "name": "stdout",
          "text": [
            "False\n",
            "True\n",
            "True\n",
            "False\n",
            "True\n",
            "True\n"
          ]
        }
      ],
      "source": [
        "def has_seven(k, target):\n",
        "  m = k // 10\n",
        "  n = k % 10\n",
        "  if n == target:\n",
        "    return True\n",
        "  elif m == 0:\n",
        "    return False\n",
        "  else:\n",
        "    return has_seven(m, target)\n",
        "\n",
        "print(has_seven(3,7))\n",
        "\n",
        "print(has_seven(7,7))\n",
        "\n",
        "print(has_seven(2734,7))\n",
        "\n",
        "print(has_seven(2634,7))\n",
        "\n",
        "print(has_seven(734,7))\n",
        "\n",
        "print(has_seven(7777,7))\n"
      ]
    }
  ]
}