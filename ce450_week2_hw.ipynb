{
  "nbformat": 4,
  "nbformat_minor": 0,
  "metadata": {
    "colab": {
      "provenance": [],
      "authorship_tag": "ABX9TyNOU5ewjHkaxKroYJzf4hw/",
      "include_colab_link": true
    },
    "kernelspec": {
      "name": "python3",
      "display_name": "Python 3"
    },
    "language_info": {
      "name": "python"
    }
  },
  "cells": [
    {
      "cell_type": "markdown",
      "metadata": {
        "id": "view-in-github",
        "colab_type": "text"
      },
      "source": [
        "<a href=\"https://colab.research.google.com/github/groovyxw/ce450_hw/blob/main/ce450_week2_hw.ipynb\" target=\"_parent\"><img src=\"https://colab.research.google.com/assets/colab-badge.svg\" alt=\"Open In Colab\"/></a>"
      ]
    },
    {
      "cell_type": "markdown",
      "source": [
        "# week2 assignment -- high order function and recursion"
      ],
      "metadata": {
        "id": "rg-YuHAIePay"
      }
    },
    {
      "cell_type": "markdown",
      "source": [
        "# 1. Define a function to implement the following operations\n",
        "def   fancy_printing (n):\n",
        "    \"\"\" A function that prints numbers in a specified\n",
        "    range except those divisible by n, and print it with “Buzz!”\n",
        "    Assume that the following example is to print numbers from 0 to (10-1), \n",
        "     and print “Buzz!” at the location of the number divisible by 5   \n",
        "    >>> replace = fancy_printing (5)\n",
        "    >>> replace(10)                                \n",
        "    0\n",
        "    Buzz!\n",
        "    2\n",
        "    3\n",
        "    4\n",
        "    Buzz!\n",
        "    6\n",
        "    7\n",
        "    8\n",
        "    9\n",
        "    \"\"\""
      ],
      "metadata": {
        "id": "UK_FkhkRkYaY"
      }
    },
    {
      "cell_type": "code",
      "execution_count": null,
      "metadata": {
        "id": "GridbC3WcKNg",
        "colab": {
          "base_uri": "https://localhost:8080/"
        },
        "outputId": "c48e1e45-0a63-499d-940c-1a86a86b520e"
      },
      "outputs": [
        {
          "output_type": "stream",
          "name": "stdout",
          "text": [
            "Buzz!\n",
            "1\n",
            "2\n",
            "3\n",
            "4\n",
            "Buzz!\n",
            "6\n",
            "7\n",
            "8\n",
            "9\n"
          ]
        }
      ],
      "source": [
        "def fancy_printing(x):\n",
        "  def my_print(n):\n",
        "    for i in range(n):\n",
        "      if(i % x == 0):\n",
        "        print(\"Buzz!\")\n",
        "      else:\n",
        "        print(i)\n",
        "  return my_print\n",
        "\n",
        "replace = fancy_printing(5)\n",
        "replace(10)"
      ]
    },
    {
      "cell_type": "markdown",
      "source": [
        "# 2. Write a function to add every other number from 0 or 1 until input parameter n in \n",
        "function RECURSION only. \n",
        "def   sum_num(n): \n",
        "  \"\"\"Return the sum of every other natural number up to n, inclusive. \n",
        "  >>> sum_num (4) # 0 + 2 + 4 \n",
        "  6 \n",
        "  >>> sum_num (5) # 1 + 3 + 5 \n",
        "  9 \n",
        " \"\"\"\n"
      ],
      "metadata": {
        "id": "eftF-OBnl119"
      }
    },
    {
      "cell_type": "code",
      "source": [
        "def sum_num(n):\n",
        "  if(n == 0 or n == 1):\n",
        "    return n\n",
        "  return n + sum_num(n - 2)\n",
        "\n",
        "print(sum_num(4))\n",
        "print(sum_num(5))"
      ],
      "metadata": {
        "colab": {
          "base_uri": "https://localhost:8080/"
        },
        "id": "Uj2P3MaAl7xg",
        "outputId": "5447629b-4cd5-43a1-ed02-a8924ee7bf07"
      },
      "execution_count": null,
      "outputs": [
        {
          "output_type": "stream",
          "name": "stdout",
          "text": [
            "6\n",
            "9\n"
          ]
        }
      ]
    },
    {
      "cell_type": "markdown",
      "source": [
        "# 3. Define a function cnt_primes(m)\n",
        "where m is a positive integer and returns the \n",
        "number of prime integers from 1 to m in function RECURSION only, given that a \n",
        "function is_prime(n) has been defined. \n",
        ">>> cnt_primes(6) # 1, 2, 3, 4, 5, 6 \n",
        ">>> 3  # 3 prime numbers from 1 to 6"
      ],
      "metadata": {
        "id": "q7ZIUTnVmR_1"
      }
    },
    {
      "cell_type": "code",
      "source": [
        "import math\n",
        "def is_prime(n):\n",
        "  if(n <= 1):\n",
        "    return False\n",
        "  for i in range(2,int(math.sqrt(n))+1):\n",
        "    if (n%i) == 0:\n",
        "      return False\n",
        "  return True\n",
        "\n",
        "def cnt_primes(m):\n",
        "  if(m <= 1):\n",
        "    return 0\n",
        "  else:\n",
        "    if is_prime(m):\n",
        "      return 1 + cnt_primes(m - 1)\n",
        "    else: \n",
        "      return cnt_primes(m - 1)\n",
        "\n",
        "cnt_primes(6)"
      ],
      "metadata": {
        "colab": {
          "base_uri": "https://localhost:8080/"
        },
        "id": "6Ctcpu71mXf0",
        "outputId": "074db0a9-3fc3-4490-d6da-fc2c8d388540"
      },
      "execution_count": null,
      "outputs": [
        {
          "output_type": "execute_result",
          "data": {
            "text/plain": [
              "3"
            ]
          },
          "metadata": {},
          "execution_count": 19
        }
      ]
    },
    {
      "cell_type": "markdown",
      "source": [
        "# 4. If \"f\" is a function and n is a positive integer, then we can form the nth repeated \n",
        "application of f, which is defined to be the function whose value at x is f(f(...(f(x))). \n",
        "For example, if f adds 1 to its argument, then the nth repeated application \n",
        "of f adds n. Write a function that takes as inputs a function f and a positive \n",
        "integer n, and then returns the function that computes the nth repeated application \n",
        "of f:\n",
        "def foo(f, n):\n",
        "    \"\"\"Return the function that computes the nth application of f.\n",
        "    >>>  incr(5)        # function is to add 1 for input argument number\n",
        "    6\n",
        "    >>> add3 = foo (incr, 3) \n",
        "    >>> add3(5)        # Doing like: incr(incr(incr(incr(incr(3)))))      \n",
        "    8\n",
        "    >>> foo (triple, 5)(1)  # triple(triple(triple(triple(triple(1)))))\n",
        "    243\n",
        "    >>> foo (square, 2)(5) # square(square(5))\n",
        "    625\n",
        "    >>> foo (square, 4)(5) # square(square(square(square(5))))\n",
        "    152587890625\n",
        "    \"\"\""
      ],
      "metadata": {
        "id": "g13M9GKIo_B9"
      }
    },
    {
      "cell_type": "code",
      "source": [
        "def incr(x):\n",
        "  return x+1\n",
        "\n",
        "def triple(x):\n",
        "  return 3*x\n",
        "\n",
        "def square(x):\n",
        "  return x**2\n",
        "\n",
        "def foo(f, n):\n",
        "  if n == 1:return f\n",
        "  return lambda x: f(foo(f, n-1)(x))\n",
        "\n",
        "\n",
        "print(incr(3))\n",
        "add3 = foo (incr, 5) \n",
        "print(add3(3))\n",
        "\n",
        "print(foo(triple, 5)(1))\n",
        "print(foo(square, 2)(5))\n",
        "print(foo(square, 4)(5))"
      ],
      "metadata": {
        "colab": {
          "base_uri": "https://localhost:8080/"
        },
        "id": "RHMV4yg5pDP0",
        "outputId": "c4757566-1d4f-42ce-dc2c-9849cd6ace65"
      },
      "execution_count": 26,
      "outputs": [
        {
          "output_type": "stream",
          "name": "stdout",
          "text": [
            "4\n",
            "8\n",
            "243\n",
            "625\n",
            "152587890625\n"
          ]
        }
      ]
    },
    {
      "cell_type": "markdown",
      "source": [
        "# 5. Calculate \"ab+c\" operation by function RECURSION. \n",
        "Other method can’t be \n",
        "allowed, only recursion function call. \n",
        "def op(a, b, c): \n",
        "  \"\"\"Computes a * b + c\n",
        "  >>> op (2, 4, 3) # 2 * 4 + 3 \n",
        " 11 \n",
        "  >>> op (0, 3, 2) # 0 * 3 + 2 \n",
        "  2 \n",
        "  >>> op (3, 0, 2) # 3 * 0 + 2 \n",
        "  2 \n",
        " \"\"\""
      ],
      "metadata": {
        "id": "AEp4BwVA0p2J"
      }
    },
    {
      "cell_type": "code",
      "source": [
        "### Assume a, b, c are all positive numbers\n",
        "def op(a, b, c):\n",
        "  if (a == 0 or b == 0) and c == 0:\n",
        "    return 0\n",
        "  if a == 0 or b == 0:\n",
        "    return op(a, b, c-1) + 1\n",
        "  elif c == 0:\n",
        "    return op(a-1, b, c) + b\n",
        "  else:\n",
        "    return op(a-1, b, c-1) + b + 1\n",
        "\n",
        "print(op(2,4,3))\n",
        "print(op(0,3,2))\n",
        "print(op(3,0,2))\n",
        "print(op(400,5,500))"
      ],
      "metadata": {
        "colab": {
          "base_uri": "https://localhost:8080/"
        },
        "id": "MOUlqrzw0sou",
        "outputId": "201374f7-f14b-47fb-ed58-e4174ad82b6e"
      },
      "execution_count": null,
      "outputs": [
        {
          "output_type": "stream",
          "name": "stdout",
          "text": [
            "11\n",
            "2\n",
            "2\n",
            "2500\n"
          ]
        }
      ]
    },
    {
      "cell_type": "code",
      "source": [
        "### Assume a, b may be nagetive numbers, also, we don't need to do recursion for c\n",
        "def op(a, b, c):\n",
        "  if a >= 0 or b >= 0:\n",
        "    if(a >= 0):\n",
        "      return op2(a, b, c);\n",
        "    else:\n",
        "      return op2(b, a, c);\n",
        "  else:\n",
        "    return op2(abs(a), abs(b), c)\n",
        "\n",
        "def op2(a, b, c):\n",
        "  if a == 0:\n",
        "    return c\n",
        "  else:\n",
        "    return op2(a-1, b, c) + b\n",
        "\n",
        "print(op(2, -4, 3))\n",
        "print(op(-2, 4, 3))\n",
        "print(op(-2, -4, 3))\n",
        "\n",
        "print(op(2,4,3))\n",
        "print(op(0,3,2))\n",
        "print(op(3,0,2))\n",
        "print(op(400,5,500))"
      ],
      "metadata": {
        "colab": {
          "base_uri": "https://localhost:8080/"
        },
        "id": "FkaeF8VZCHjl",
        "outputId": "7a4f4d84-1b88-4253-d191-7ab23ed3a6c1"
      },
      "execution_count": 25,
      "outputs": [
        {
          "output_type": "stream",
          "name": "stdout",
          "text": [
            "-5\n",
            "-5\n",
            "11\n",
            "11\n",
            "2\n",
            "2\n",
            "2500\n"
          ]
        }
      ]
    },
    {
      "cell_type": "markdown",
      "source": [
        "# 6. Implement the function \"checking\", which takes a positive integer as input and \n",
        "returns True if its digits, read left to right, are in non-decreasing order, \n",
        "and False otherwise. For example, the digits of 5, 11, 127, and 1357 are ordered, \n",
        "but not those of 21 or 1375.\n",
        "def  checking(x):\n",
        "    \"\"\"Return True if the (base 10) digits of X>0 are in non-decreasing\n",
        "    order, and False otherwise.\n",
        "    >>> checking (5)\n",
        "    True\n",
        "    >>> checking (11)\n",
        "    True\n",
        "    >>> checking (127) # 1<2<7\n",
        "    True\n",
        "    >>> checking (1357) # 1<3<5<7\n",
        "    True\n",
        "    >>> checking (21) # 2 > 1\n",
        "    False\n",
        "    >>> result = checking (1375) # 7 > 5\n",
        "    >>> result\n",
        "    False\n",
        "    \"\"\""
      ],
      "metadata": {
        "id": "RVlcHKYP57xy"
      }
    },
    {
      "cell_type": "code",
      "source": [
        "import sys\n",
        "def checking(x):\n",
        "  last = sys.maxsize\n",
        "  while x // 10 >= 0:\n",
        "    if last < x % 10:\n",
        "      return False\n",
        "\n",
        "    last = x % 10\n",
        "    x = x // 10\n",
        "    if x == 0:\n",
        "      return True\n",
        "  return True\n",
        "\n",
        "print(checking(5))\n",
        "print(checking(11))\n",
        "print(checking(127))\n",
        "print(checking(1357))\n",
        "print(checking(21))\n",
        "print(checking(1375))\n",
        "print(checking(9789))\n"
      ],
      "metadata": {
        "colab": {
          "base_uri": "https://localhost:8080/"
        },
        "id": "TStwVw1959nN",
        "outputId": "dd261f3c-cc89-451b-de64-f4fa13f5f32d"
      },
      "execution_count": null,
      "outputs": [
        {
          "output_type": "stream",
          "name": "stdout",
          "text": [
            "True\n",
            "True\n",
            "True\n",
            "True\n",
            "False\n",
            "False\n",
            "False\n"
          ]
        }
      ]
    },
    {
      "cell_type": "markdown",
      "source": [
        "# 7. Define a function to implement the following operation in RECURSIVE call only.\n",
        "def   cal(n): \n",
        "\"\"\"Return the product of n * (n - 2) * (n - 4) * ... \n",
        ">>> cal (5) # 5 * 3 * 1 \n",
        "15 \n",
        ">>> cal (8) # 8 * 6 * 4 * 2 * 0 \n",
        "0\n",
        "\"\"\""
      ],
      "metadata": {
        "id": "nH7NlFh_-D9l"
      }
    },
    {
      "cell_type": "code",
      "source": [
        "def cal(n):\n",
        "  if n == 0 or n == 1:\n",
        "    return n\n",
        "  return n * cal(n - 2)\n",
        "\n",
        "print(cal(5))\n",
        "print(cal(8))"
      ],
      "metadata": {
        "colab": {
          "base_uri": "https://localhost:8080/"
        },
        "id": "qQ0_Sj_c-Lhc",
        "outputId": "55ea8e86-554e-40f6-b4f2-2abecd372f26"
      },
      "execution_count": null,
      "outputs": [
        {
          "output_type": "stream",
          "name": "stdout",
          "text": [
            "15\n",
            "0\n"
          ]
        }
      ]
    },
    {
      "cell_type": "markdown",
      "source": [
        "# 8. Define a function to implement intersects, \n",
        "which takes a one-argument function f \n",
        "and argument \"x\", returns a function g. It returns True if f(x)=g(x), otherwise False.\n",
        "def intscts(f, x):\n",
        "    \"\"\"Returns a function that returns whether f intersects g at x.\n",
        "    >>> at3 = intscts(square, 3)\n",
        "    >>> at3 (triple) # triple(3) == square(3)\n",
        "    True\n",
        "    >>> at3 (increment) # triple(3) != square(3) \n",
        "    False\n",
        "    >>> at1 = intscts(identity, 1)\n",
        "    >>> at1(square) # square(1) == identity(1)\n",
        "    True\n",
        "    >>> at1 (triple) # triple(1) != identity(1)\n",
        "    False\n",
        "    \"\"\""
      ],
      "metadata": {
        "id": "LPWjau1G-g5I"
      }
    },
    {
      "cell_type": "code",
      "source": [
        "from numpy import identity\n",
        "def triple(x):\n",
        "  return 3*x\n",
        "\n",
        "def square(x):\n",
        "  return x**2\n",
        "\n",
        "def increment(x):\n",
        "  return x+1\n",
        "\n",
        "def identity(x):\n",
        "  return x\n",
        "\n",
        "def intscts(f,x):\n",
        "  def g(f2):\n",
        "    # print(f(x), f2(x))\n",
        "    return f2(x) == f(x)\n",
        "\n",
        "  return g\n",
        "\n",
        "at3 = intscts(square, 3)\n",
        "print(at3(triple))\n",
        "print(at3(increment))\n",
        "\n",
        "at1 = intscts(identity, 1)\n",
        "print(at1(square))\n",
        "\n",
        "print(at1(triple))"
      ],
      "metadata": {
        "colab": {
          "base_uri": "https://localhost:8080/"
        },
        "id": "v6DnnAVc-ntS",
        "outputId": "b500b299-30d5-4b38-991d-eae707a7a346"
      },
      "execution_count": 1,
      "outputs": [
        {
          "output_type": "stream",
          "name": "stdout",
          "text": [
            "True\n",
            "False\n",
            "True\n",
            "False\n"
          ]
        }
      ]
    },
    {
      "cell_type": "markdown",
      "source": [
        "# 9. Assume a mathematical function A(x), where x is positive number is defined by \n",
        "two cases: \n",
        "A(n) = n, if n <= 3 \n",
        "A(n) =A(n - 1) + 2 * A(n - 2) + 3 * A(n - 3), if n > 3 \n",
        "def A(n): \n",
        "   \"\"\"Return the value of A(n), calculate in RECURSIVE call only\n",
        "   >>> A(1) \n",
        "   1 \n",
        "   >>> A(2) \n",
        "   2 \n",
        "   >>> A (3) \n",
        "   3 \n",
        "   >>> A (4) # A (3) + 2* A (2) + 3* A (1) = 3 + 2*2 + 3*1=10 \n",
        "   10\n",
        "   >>> A (5) # A (4) + 2* A (3) + 3* A (2)=10 + 2*3 + 3*2 = 22 \n",
        "                            22\n",
        "  \"\"\""
      ],
      "metadata": {
        "id": "A33ZA2htDxYR"
      }
    },
    {
      "cell_type": "code",
      "source": [
        "def A(x):\n",
        "  if x <= 3:\n",
        "    return x\n",
        "  else:\n",
        "    return A(x-1) + 2*A(x-2) + 3*A(x-3)\n",
        "\n",
        "print(A(1), A(2), A(3), A(4), A(5))"
      ],
      "metadata": {
        "colab": {
          "base_uri": "https://localhost:8080/"
        },
        "id": "pKj9qB5DDylz",
        "outputId": "09084025-ffc6-479c-bfaa-13a8fd965fd3"
      },
      "execution_count": null,
      "outputs": [
        {
          "output_type": "stream",
          "name": "stdout",
          "text": [
            "1 2 3 10 22\n"
          ]
        }
      ]
    },
    {
      "cell_type": "markdown",
      "source": [
        "# 10. The bounce-back-forth sequence is a serial number from 1 and is always either counting up or counting down. \n",
        "In kth number, the direction changes when k is divisible \n",
        "by 7 or contains the digit 7. The first 30 elements of the bounce-back-forth sequence \n",
        "are listed below, with direction change marked in RED color at the 7th, 14 th, 17 th, 21st, \n",
        "27 th, and 28 th elements: \n",
        "Index number in the serial: 1 2 3  4  5 6  7   8  9 10 11 12 13 14 15 16 17 18 19 20 21 22 23 24 25 26 27  28  29 30\n",
        "                               1 2 3 4 5 6 [7] 6 5 4  3  2  1  [0] 1  2 [3] 2  1  0 [-1] 0 1   2  3  4  [5] [4] 5  6 \n",
        "Write a function bounce-back-forth that returns the kth element of the bounce-back-\n",
        "forth sequence. \n",
        "def bnc_bck_frth(k): \n",
        "  \"\"\"Return the kth element of the bounce-back-forth sequence. \n",
        "  >>> bnc_bck_frth (7) \n",
        "   7 \n",
        "  >>> bnc_bck_frth (8) \n",
        "  6 \n",
        "  >>> bnc_bck_frth (15) \n",
        "  1 \n",
        "  >>> bnc_bck_frth (21) \n",
        " -1 \n",
        "  >>> bnc_bck_frth (22) \n",
        "  0 \n",
        "  >>> bnc_bck_frth (30) \n",
        "  6\n",
        "  >>> bnc_bck_frth (68) \n",
        "  2 \n",
        "  >>> bnc_bck_frth (69) \n",
        "  1 \n",
        "  >>> bnc_bck_frth (70) \n",
        "  0 \n",
        "  >>> bnc_bck_frth (71) \n",
        "  1 \n",
        "  >>> bnc_bck_frth (72) \n",
        "  0 \n",
        "  >>> bnc_bck_frth (100) \n",
        "   2 \n",
        "\"\"\""
      ],
      "metadata": {
        "id": "OJ94T_9wETe3"
      }
    },
    {
      "cell_type": "code",
      "source": [
        "def has_seven(x):\n",
        "  if x % 7 == 0 or '7' in str(x):\n",
        "    return True\n",
        "  return False\n",
        "\n",
        "\n",
        "def bnc_bck_frth(n):\n",
        "  res = None\n",
        "  def helper(n, res):\n",
        "    if n == 1:\n",
        "      return 1,1\n",
        "    else:\n",
        "      res,forth = helper(n-1, res)\n",
        "      if forth == 1:\n",
        "        res += 1\n",
        "      else:\n",
        "        res -= 1\n",
        "      if has_seven(n):\n",
        "        forth = 1 - forth\n",
        "      return res, forth\n",
        "  ans, dir =  helper(n, res)\n",
        "  return ans\n",
        "\n",
        "## test\n",
        "for i in range(1, 31):\n",
        "  print(i,bnc_bck_frth(i))\n",
        "\n",
        "for i in range(68, 101):\n",
        "  print(i,bnc_bck_frth(i))\n"
      ],
      "metadata": {
        "colab": {
          "base_uri": "https://localhost:8080/"
        },
        "id": "cdJaXgxVEZPY",
        "outputId": "38006daf-a844-47a5-c60b-544c7b2e0cf3"
      },
      "execution_count": null,
      "outputs": [
        {
          "output_type": "stream",
          "name": "stdout",
          "text": [
            "1 1\n",
            "2 2\n",
            "3 3\n",
            "4 4\n",
            "5 5\n",
            "6 6\n",
            "7 7\n",
            "8 6\n",
            "9 5\n",
            "10 4\n",
            "11 3\n",
            "12 2\n",
            "13 1\n",
            "14 0\n",
            "15 1\n",
            "16 2\n",
            "17 3\n",
            "18 2\n",
            "19 1\n",
            "20 0\n",
            "21 -1\n",
            "22 0\n",
            "23 1\n",
            "24 2\n",
            "25 3\n",
            "26 4\n",
            "27 5\n",
            "28 4\n",
            "29 5\n",
            "30 6\n",
            "68 2\n",
            "69 1\n",
            "70 0\n",
            "71 1\n",
            "72 0\n",
            "73 1\n",
            "74 0\n",
            "75 1\n",
            "76 0\n",
            "77 1\n",
            "78 0\n",
            "79 1\n",
            "80 0\n",
            "81 -1\n",
            "82 -2\n",
            "83 -3\n",
            "84 -4\n",
            "85 -3\n",
            "86 -2\n",
            "87 -1\n",
            "88 -2\n",
            "89 -3\n",
            "90 -4\n",
            "91 -5\n",
            "92 -4\n",
            "93 -3\n",
            "94 -2\n",
            "95 -1\n",
            "96 0\n",
            "97 1\n",
            "98 0\n",
            "99 1\n",
            "100 2\n"
          ]
        }
      ]
    }
  ]
}