{
  "nbformat": 4,
  "nbformat_minor": 0,
  "metadata": {
    "colab": {
      "provenance": [],
      "authorship_tag": "ABX9TyNLoYEaXL9MPLP85NOFKZ1d",
      "include_colab_link": true
    },
    "kernelspec": {
      "name": "python3",
      "display_name": "Python 3"
    },
    "language_info": {
      "name": "python"
    }
  },
  "cells": [
    {
      "cell_type": "markdown",
      "metadata": {
        "id": "view-in-github",
        "colab_type": "text"
      },
      "source": [
        "<a href=\"https://colab.research.google.com/github/groovyxw/ce450_hw/blob/main/week12_test.ipynb\" target=\"_parent\"><img src=\"https://colab.research.google.com/assets/colab-badge.svg\" alt=\"Open In Colab\"/></a>"
      ]
    },
    {
      "cell_type": "markdown",
      "source": [
        "# 1.\tCreate the function \"is_sqrt\" with one input argument of a list dType of positive integers and returns a new list dType which contains only elements of the original list that are perfect squares.\n",
        "\n",
        "from math import sqrt\n",
        "def  is_sqrt(seq):\n",
        "    \"\"\"Returns a new list containing elements of the \n",
        "original list that are perfect squares.\n",
        "\n",
        "    >>> seq = [49, 8, 2, 1, 102]\n",
        "    >>> is_sqrt(seq)\n",
        "    [49, 1]\n",
        "    >>> seq = [500, 30]\n",
        "    >>> is_sqrt(seq)\n",
        "    []\n",
        "    \"\"\"\n"
      ],
      "metadata": {
        "id": "Z8HSr2TE3gO2"
      }
    },
    {
      "cell_type": "code",
      "source": [
        "from math import sqrt\n",
        "def  is_sqrt(seq):\n",
        "  res = []\n",
        "  for e in seq:\n",
        "    if int(sqrt(e))**2 == e:\n",
        "      res.append(e)\n",
        "  return res\n",
        "\n",
        "seq = [49, 8, 2, 1, 102]\n",
        "print(is_sqrt(seq))\n",
        "seq = [500, 30]\n",
        "print(is_sqrt(seq))"
      ],
      "metadata": {
        "colab": {
          "base_uri": "https://localhost:8080/"
        },
        "id": "5LrgUIaW2UXB",
        "outputId": "6327ce14-71ee-42c7-816a-1d0b3be91a80"
      },
      "execution_count": 3,
      "outputs": [
        {
          "output_type": "stream",
          "name": "stdout",
          "text": [
            "[49, 1]\n",
            "[]\n"
          ]
        }
      ]
    },
    {
      "cell_type": "code",
      "execution_count": null,
      "metadata": {
        "id": "PnfdUGXLXCht"
      },
      "outputs": [],
      "source": []
    }
  ]
}